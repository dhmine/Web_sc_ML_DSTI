{
  "nbformat": 4,
  "nbformat_minor": 0,
  "metadata": {
    "colab": {
      "name": "Untitled12.ipynb",
      "provenance": [],
      "collapsed_sections": [],
      "authorship_tag": "ABX9TyM7CkYRTCrDs+QopiFEPpzj",
      "include_colab_link": true
    },
    "kernelspec": {
      "name": "python3",
      "display_name": "Python 3"
    },
    "language_info": {
      "name": "python"
    }
  },
  "cells": [
    {
      "cell_type": "markdown",
      "metadata": {
        "id": "view-in-github",
        "colab_type": "text"
      },
      "source": [
        "<a href=\"https://colab.research.google.com/github/dhmine/Web_sc_ML_DSTI/blob/main/Untitled12.ipynb\" target=\"_parent\"><img src=\"https://colab.research.google.com/assets/colab-badge.svg\" alt=\"Open In Colab\"/></a>"
      ]
    },
    {
      "cell_type": "code",
      "execution_count": null,
      "metadata": {
        "id": "pszC3HOTXHVl"
      },
      "outputs": [],
      "source": [
        "import pandas as pd\n",
        "import numpy as np\n",
        "import seaborn as sns\n"
      ]
    },
    {
      "cell_type": "code",
      "source": [
        "data.head()\n",
        "data.tail()\n",
        "data.info()\n",
        "data.mean()"
      ],
      "metadata": {
        "id": "tqLPWp_jXMHP"
      },
      "execution_count": null,
      "outputs": []
    },
    {
      "cell_type": "code",
      "source": [
        "data.corr()\n",
        "sns.heatmap(data.corr())"
      ],
      "metadata": {
        "id": "9apwjUJkXTs9"
      },
      "execution_count": null,
      "outputs": []
    },
    {
      "cell_type": "code",
      "source": [
        "trauma_cols = data.select_dtypes(include = ['float']).columns.to_list()"
      ],
      "metadata": {
        "id": "ExJ2cMzLXXW3"
      },
      "execution_count": null,
      "outputs": []
    },
    {
      "cell_type": "code",
      "source": [
        "for col in trauma_cols :\n",
        "    calc_mean = np.mean(data[col])\n",
        "    print(f\"moyenne de la colonne {col} est : {calc_mean}\")"
      ],
      "metadata": {
        "id": "nB4E2JqDXcfR"
      },
      "execution_count": null,
      "outputs": []
    },
    {
      "cell_type": "code",
      "source": [
        "import pyautogui\n",
        "import numpy as np\n",
        "import cv2\n",
        "import matplotlib.pyplot as plt\n",
        "\n",
        "import pytesseract\n",
        "pytesseract.pytesseract.tesseract_cmd = 'C:Program Files\\esseract-OCR\\\\tesseract.exe'\n",
        "\n",
        "\n",
        "def get_position():\n",
        "\"\"\"\n",
        "Gets the mouse coordinates\n",
        "return: the coordinates\n",
        "\"\"\"\n",
        "return pyautogui.position()\n",
        "\n",
        "\n",
        "# def get_screenshot(x_lcorner,y_lcorner, width, height ) :\n",
        "def get_screenshot():\n",
        "\"\"\"\n",
        "Gets coordinnates and \"screenshot\" accordingly\n",
        "return: the crop image\n",
        "\"\"\"\n",
        "\n",
        "# Get the starting point from the mouse position\n",
        "# x_y = pyautogui.position()\n",
        "tlx = 0\n",
        "tly = 0\n",
        "rbx = 0\n",
        "rby = 0\n",
        "\n",
        "# We wait for any the user input to put his mouse on the wanted spot\n",
        "# Get the starting point from the mouse position\n",
        "input('Input something when you are ready for the top left corner\\n')\n",
        "tlx, tly = pyautogui.position()\n",
        "print(tlx)\n",
        "print(tly)\n",
        "# Get the starting point from the mouse position\n",
        "input('Input something when you are ready for the bottom right corner\\n')\n",
        "rbx, rby = pyautogui.position()\n",
        "print(rbx)\n",
        "print(rby)\n",
        "\n",
        "return extract_crop(tlx = tlx, tly = tly, rbx = rbx, rby = rby)\n",
        "\n",
        "def extract_zillow_address():\n",
        "\"\"\"\n",
        "Extract the address from the Zillow website\n",
        "based on the user screen size\n",
        ":return:\n",
        "\"\"\"\n",
        "assert pyautogui.size() == (1920, 1080)\n",
        "return extract_crop(tlx=1133\n",
        ", tly=297\n",
        ", rbx=1627\n",
        ", rby=340)\n",
        "\n",
        "\n",
        "def extract_crop(tlx, tly, rbx, rby):\n",
        "\"\"\"\n",
        "Extract a crop\n",
        ":param tlx: int x top left position\n",
        ":param tly: int y top left position\n",
        ":param rbx: int x bottom right position\n",
        ":param rby: int y bottom right position\n",
        ":return: the crop\n",
        "\"\"\"\n",
        "image = pyautogui.screenshot()\n",
        "# We change the image color\n",
        "image = cv2.cvtColor(np.array(image), cv2.COLOR_RGB2BGR)\n",
        "return image[tly:rby, tlx:rbx, :3] # image[ymin:ymax,xmin:xmax]\n",
        "\n",
        "def image_to_text(crop):\n",
        "\"\"\"\n",
        "transform a image with text into a string\n",
        ":param crop : an image\n",
        ":return: a string\n",
        "\"\"\"\n",
        "text_from_crop = pytesseract.image_to_string(crop)\n",
        "return text_from_crop\n",
        "\n",
        "if __name__ == '__main__':\n",
        "#print(pyautogui.size())\n",
        "# crop_address = extract_zillow_address()\n",
        "crop_address = get_screenshot()\n",
        "print(type(crop_address))\n",
        "\n",
        "# Plot the crop\n",
        "plt.imshow(crop_address)\n",
        "plt.title(\"the address as image\")\n",
        "plt.show()\n",
        "\n",
        "text_from_crop = image_to_text(crop_address)\n",
        "print(\"outupt:\" + text_from_crop)s"
      ],
      "metadata": {
        "id": "QAps3tIHXkto"
      },
      "execution_count": null,
      "outputs": []
    }
  ]
}